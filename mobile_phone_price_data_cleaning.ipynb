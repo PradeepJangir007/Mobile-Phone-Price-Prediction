{
 "cells": [
  {
   "cell_type": "code",
   "execution_count": 1,
   "metadata": {
    "id": "k-jKqojcjp8v"
   },
   "outputs": [],
   "source": [
    "import numpy as np\n",
    "import pandas as pd\n",
    "import matplotlib.pyplot as plt\n",
    "import seaborn as sns\n",
    "import scipy.stats as stats\n",
    "import re\n",
    "import warnings\n",
    "warnings.filterwarnings('ignore')\n",
    "from scipy import stats\n",
    "import re"
   ]
  },
  {
   "cell_type": "code",
   "execution_count": 42,
   "metadata": {
    "id": "xDVZIaO6jzFs"
   },
   "outputs": [],
   "source": [
    "data= pd.read_csv('mobile phone price prediction.csv')"
   ]
  },
  {
   "cell_type": "code",
   "execution_count": 43,
   "metadata": {
    "colab": {
     "base_uri": "https://localhost:8080/",
     "height": 528
    },
    "id": "LTE3-O8ukL9v",
    "outputId": "bea7ff69-ed65-4d9b-8f25-347be10bb678"
   },
   "outputs": [
    {
     "data": {
      "text/html": [
       "<div>\n",
       "<style scoped>\n",
       "    .dataframe tbody tr th:only-of-type {\n",
       "        vertical-align: middle;\n",
       "    }\n",
       "\n",
       "    .dataframe tbody tr th {\n",
       "        vertical-align: top;\n",
       "    }\n",
       "\n",
       "    .dataframe thead th {\n",
       "        text-align: right;\n",
       "    }\n",
       "</style>\n",
       "<table border=\"1\" class=\"dataframe\">\n",
       "  <thead>\n",
       "    <tr style=\"text-align: right;\">\n",
       "      <th></th>\n",
       "      <th>Unnamed: 0</th>\n",
       "      <th>Name</th>\n",
       "      <th>Rating</th>\n",
       "      <th>Spec_score</th>\n",
       "      <th>No_of_sim</th>\n",
       "      <th>Ram</th>\n",
       "      <th>Battery</th>\n",
       "      <th>Display</th>\n",
       "      <th>Camera</th>\n",
       "      <th>External_Memory</th>\n",
       "      <th>Android_version</th>\n",
       "      <th>Price</th>\n",
       "      <th>company</th>\n",
       "      <th>Inbuilt_memory</th>\n",
       "      <th>fast_charging</th>\n",
       "      <th>Screen_resolution</th>\n",
       "      <th>Processor</th>\n",
       "      <th>Processor_name</th>\n",
       "    </tr>\n",
       "  </thead>\n",
       "  <tbody>\n",
       "    <tr>\n",
       "      <th>0</th>\n",
       "      <td>0</td>\n",
       "      <td>Samsung Galaxy F14 5G</td>\n",
       "      <td>4.65</td>\n",
       "      <td>68</td>\n",
       "      <td>Dual Sim, 3G, 4G, 5G, VoLTE,</td>\n",
       "      <td>4 GB RAM</td>\n",
       "      <td>6000 mAh Battery</td>\n",
       "      <td>6.6 inches</td>\n",
       "      <td>50 MP + 2 MP Dual Rear &amp;amp; 13 MP Front Camera</td>\n",
       "      <td>Memory Card Supported, upto 1 TB</td>\n",
       "      <td>13</td>\n",
       "      <td>9,999</td>\n",
       "      <td>Samsung</td>\n",
       "      <td>128 GB inbuilt</td>\n",
       "      <td>25W Fast Charging</td>\n",
       "      <td>2408 x 1080 px Display with Water Drop Notch</td>\n",
       "      <td>Octa Core Processor</td>\n",
       "      <td>Exynos 1330</td>\n",
       "    </tr>\n",
       "  </tbody>\n",
       "</table>\n",
       "</div>"
      ],
      "text/plain": [
       "   Unnamed: 0                   Name  Rating  Spec_score  \\\n",
       "0           0  Samsung Galaxy F14 5G    4.65          68   \n",
       "\n",
       "                       No_of_sim       Ram            Battery     Display  \\\n",
       "0  Dual Sim, 3G, 4G, 5G, VoLTE,   4 GB RAM  6000 mAh Battery   6.6 inches   \n",
       "\n",
       "                                            Camera  \\\n",
       "0  50 MP + 2 MP Dual Rear &amp; 13 MP Front Camera   \n",
       "\n",
       "                    External_Memory Android_version  Price  company  \\\n",
       "0  Memory Card Supported, upto 1 TB              13  9,999  Samsung   \n",
       "\n",
       "    Inbuilt_memory       fast_charging  \\\n",
       "0   128 GB inbuilt   25W Fast Charging   \n",
       "\n",
       "                               Screen_resolution             Processor  \\\n",
       "0   2408 x 1080 px Display with Water Drop Notch   Octa Core Processor   \n",
       "\n",
       "  Processor_name  \n",
       "0    Exynos 1330  "
      ]
     },
     "execution_count": 43,
     "metadata": {},
     "output_type": "execute_result"
    }
   ],
   "source": [
    "data.head(1)"
   ]
  },
  {
   "cell_type": "code",
   "execution_count": 44,
   "metadata": {
    "colab": {
     "base_uri": "https://localhost:8080/"
    },
    "id": "jx_oXjUra5eT",
    "outputId": "ef0e8df3-053d-4eb6-b780-c4a997e40b56"
   },
   "outputs": [
    {
     "data": {
      "text/plain": [
       "0"
      ]
     },
     "execution_count": 44,
     "metadata": {},
     "output_type": "execute_result"
    }
   ],
   "source": [
    "data.duplicated().sum()"
   ]
  },
  {
   "cell_type": "code",
   "execution_count": 45,
   "metadata": {
    "id": "Hu0RdzFtIx1o"
   },
   "outputs": [],
   "source": [
    "data=data.drop(columns = ['Unnamed: 0'],axis='columns')"
   ]
  },
  {
   "cell_type": "code",
   "execution_count": 46,
   "metadata": {
    "colab": {
     "base_uri": "https://localhost:8080/"
    },
    "id": "JjeS_aLnkOc0",
    "outputId": "151e3dcb-53b7-4ea7-bc64-48ec5fbd2972"
   },
   "outputs": [
    {
     "name": "stdout",
     "output_type": "stream",
     "text": [
      "<class 'pandas.core.frame.DataFrame'>\n",
      "RangeIndex: 1370 entries, 0 to 1369\n",
      "Data columns (total 17 columns):\n",
      " #   Column             Non-Null Count  Dtype  \n",
      "---  ------             --------------  -----  \n",
      " 0   Name               1370 non-null   object \n",
      " 1   Rating             1370 non-null   float64\n",
      " 2   Spec_score         1370 non-null   int64  \n",
      " 3   No_of_sim          1370 non-null   object \n",
      " 4   Ram                1370 non-null   object \n",
      " 5   Battery            1370 non-null   object \n",
      " 6   Display            1370 non-null   object \n",
      " 7   Camera             1370 non-null   object \n",
      " 8   External_Memory    1370 non-null   object \n",
      " 9   Android_version    927 non-null    object \n",
      " 10  Price              1370 non-null   object \n",
      " 11  company            1370 non-null   object \n",
      " 12  Inbuilt_memory     1351 non-null   object \n",
      " 13  fast_charging      1281 non-null   object \n",
      " 14  Screen_resolution  1368 non-null   object \n",
      " 15  Processor          1342 non-null   object \n",
      " 16  Processor_name     1370 non-null   object \n",
      "dtypes: float64(1), int64(1), object(15)\n",
      "memory usage: 182.1+ KB\n"
     ]
    }
   ],
   "source": [
    "data.info()"
   ]
  },
  {
   "cell_type": "code",
   "execution_count": 47,
   "metadata": {},
   "outputs": [],
   "source": [
    "temp=data[data.Camera.str.contains('Display')]\n",
    "data.insert(7,'Dual_display',temp['Camera'])\n",
    "data.iloc[temp.index,[8]]=temp[['External_Memory']]"
   ]
  },
  {
   "cell_type": "code",
   "execution_count": 48,
   "metadata": {
    "id": "5FUxUBYyC2fP"
   },
   "outputs": [],
   "source": [
    "data.loc[1246,['Battery','Display','Camera','External_Memory',\n",
    "               'fast_charging','Screen_resolution','Ram','Inbuilt_memory','Processor','Processor_name']]=['6000 mAh Battery','6.75 inches',\n",
    "                                                      '48 MP + 5 MP + 2 MP Triple Rear &amp; 8 MP','Memory Card (Hybrid)',\n",
    "                                                      '22.5W Fast Charging',' 720 x 1600 px Display','4 GB RAM','128 GB inbuilt',np.nan,np.nan]\n",
    "data.loc[264,['Name','Rating','Spec_score','No_of_sim','Ram','Battery','Display','Camera','External_Memory','Price','company','Inbuilt_memory',\n",
    "              'fast_charging','Screen_resolution','Processor','Processor_name',]]=['Realme 6i(6GB RAM + 64GB)',3.85,76,'Dual Sim, 3G, 4G, VoLTE',\n",
    "                                                                                   '6GB RAM','4300 mAh Battery','6.5 inches',\n",
    "                                                                                   '48 MP Quad Rear &amp; 16 MP Front Camera',\n",
    "                                                                                   np.nan,'14,999','Realme','64 GB inbuilt','30W Fast Charging',\n",
    "                                                                                   ' 1080 x 2400 px, 90 Hz Display','Octa Core','Helio G90T']\n",
    "data.loc[264,'Dual_display']=np.nan"
   ]
  },
  {
   "cell_type": "code",
   "execution_count": 49,
   "metadata": {},
   "outputs": [],
   "source": [
    "# External coloum\n",
    "temp=data[data.External_Memory.notnull()]\n",
    "ind=temp[temp.External_Memory.str.contains('MP')].index\n",
    "data.iloc[ind,9]=np.nan\n",
    "data.insert(10,'os','0')\n",
    "temp=data[data.External_Memory.notnull()]\n",
    "ind=temp[temp.External_Memory.str.contains('Android')][['External_Memory']]\n",
    "data.iloc[ind.index,[10]]=ind\n",
    "data.iloc[ind.index,9]=np.nan\n",
    "\n",
    "temp=data[data.External_Memory.notnull()]\n",
    "ind=temp[temp.External_Memory.str.contains('Harmony')][['External_Memory']]\n",
    "data.iloc[ind.index,[10]]=ind\n",
    "data.iloc[ind.index,9]=np.nan\n",
    "\n",
    "temp=data[data.External_Memory.notnull()]\n",
    "ind=temp[temp.External_Memory.str.contains('EMUI')][['External_Memory']]\n",
    "data.iloc[ind.index,[10]]=ind\n",
    "data.iloc[ind.index,9]=np.nan\n",
    "\n",
    "data.External_Memory=data.External_Memory.str.replace('Memory Card Supported, upto','')\n",
    "data.External_Memory=data.External_Memory.str.replace('Memory Card (Hybrid), upto','')\n",
    "data.External_Memory=data.External_Memory.str.replace('Memory Card Not Supported','0 GB')\n",
    "data.External_Memory=data.External_Memory.str.strip()\n",
    "\n",
    "data.External_Memory.replace({'1 TB':'1024 GB','2 TB':'2048 GB','Memory Card (Hybrid)':'1024 GB',\n",
    "                              'Memory Card Supported':'1024 GB','No FM Radio':'0 GB'},inplace=True)"
   ]
  },
  {
   "cell_type": "code",
   "execution_count": 50,
   "metadata": {},
   "outputs": [],
   "source": [
    "data.Inbuilt_memory=data.Inbuilt_memory.replace(' 1 TB inbuilt','1024 GB inbuilt')\n",
    "data.Inbuilt_memory=data.Inbuilt_memory.replace('2 TB inbuilt','2048 GB inbuilt')\n",
    "data.Inbuilt_memory=data.Inbuilt_memory.str.replace('GB inbuilt','')"
   ]
  },
  {
   "cell_type": "code",
   "execution_count": 51,
   "metadata": {},
   "outputs": [],
   "source": [
    "data.fast_charging=data.fast_charging.str.replace('W Fast Charging','')\n",
    "data.fast_charging=data.fast_charging.str.replace('Fast Charging','15')\n",
    "#for j in range(10000,150000,10000):\n",
    "#  for i in D:\n",
    "#    data.loc[data[(data.company==i) & (data['fast_charging'].isna()) & (data.Price<j)].index,['fast_charging']]=D[i]\n",
    "#data['fast_charging'].fillna(15,inplace=True)"
   ]
  },
  {
   "cell_type": "code",
   "execution_count": 52,
   "metadata": {},
   "outputs": [],
   "source": [
    "data.Screen_resolution=data.Screen_resolution.str.replace('px Display','')"
   ]
  },
  {
   "cell_type": "code",
   "execution_count": 53,
   "metadata": {},
   "outputs": [],
   "source": [
    "#  change the data\n",
    "data.Price=data.Price.str.replace(',','').astype(int)\n",
    "data.Battery=data.Battery.str.replace('mAh Battery','').astype(int)\n",
    "data.Rating=data.Rating.astype(float)\n",
    "data.Spec_score=data.Spec_score.astype(int)\n",
    "data.Display=data.Display.str.replace('inches','').astype(float)"
   ]
  },
  {
   "cell_type": "code",
   "execution_count": 54,
   "metadata": {},
   "outputs": [],
   "source": [
    "# Ram coloum\n",
    "temp=data[data.Ram.str.contains('inbuilt')]\n",
    "data.iloc[temp.index,9]=temp.Ram\n",
    "data.iloc[temp.index,4]=np.nan\n",
    "\n",
    "data.loc[data[(data['Price'] <= 20000) & (data['Ram'].isnull())].index,'Ram']='6.0'\n",
    "data.loc[data[(data['Price'] <= 50000) & (data['Ram'].isnull())].index,'Ram']='8.0'\n",
    "data.loc[data[(data['Price'] <= 1500000) & (data['Ram'].isnull())].index,'Ram']='12.0'\n",
    "data.Ram=data.Ram.str.replace('GB RAM','').astype(float)"
   ]
  },
  {
   "cell_type": "code",
   "execution_count": 55,
   "metadata": {},
   "outputs": [],
   "source": [
    "#  change the data type\n",
    "data.Ram=data.Ram.astype(float)\n",
    "data.Battery=data.Battery.astype(int)\n",
    "data.fast_charging=data.fast_charging.astype(float)"
   ]
  },
  {
   "cell_type": "code",
   "execution_count": 56,
   "metadata": {},
   "outputs": [],
   "source": [
    "## No of sim\n",
    "data.insert(4,'Dual Sim',data.No_of_sim.str.contains('Dual Sim').astype('int'))\n",
    "data.insert(5,'VoLTE',data.No_of_sim.str.contains('VoLTE').astype('int'))\n",
    "data.insert(6,'5G',data.No_of_sim.str.contains('5G').astype('int'))\n",
    "data.insert(7,'Vo5G',data.No_of_sim.str.contains('Vo5G').astype('int'))\n",
    "data.drop('No_of_sim',axis=1,inplace=True)"
   ]
  },
  {
   "cell_type": "code",
   "execution_count": 57,
   "metadata": {},
   "outputs": [],
   "source": [
    "# foldable and dual\n",
    "data.Dual_display.fillna('No',inplace=True)\n",
    "data.insert(12,'Foldable Display',data.Dual_display.str.contains('Foldable').astype('int'))\n",
    "data.insert(13,'Dual Display',data.Dual_display.str.contains('Dual').astype('int'))"
   ]
  },
  {
   "cell_type": "code",
   "execution_count": 58,
   "metadata": {},
   "outputs": [],
   "source": [
    "# Androids version\n",
    "data['OS']=data.os.apply(lambda x : str(x).split(' ')[0])\n",
    "data['OS_v']=data.os.apply(lambda x : str(x).split(' ')[1] if len(str(x).split(' '))>1 else 0 ).str.replace('v','').fillna(0)\n",
    "data['v']=data.Android_version.fillna('0').apply(lambda x : str(x).split(' ')[0] )\n",
    "data.v=data.v.str.replace('7.1.1','7.1',)\n",
    "data.Android_version=data.v.astype('float')+data.OS_v.astype('float')\n",
    "data.drop(['OS','OS_v','v'],axis=1,inplace=True)"
   ]
  },
  {
   "cell_type": "code",
   "execution_count": 59,
   "metadata": {},
   "outputs": [],
   "source": [
    "data['Water Drop Notch']=data.Screen_resolution.str.contains('Water Drop').astype('int')\n",
    "data['with Punch Hole']=data.Screen_resolution.str.contains('Punch Hole').astype('int')\n",
    "data.loc[933,'Screen_resolution']='1920 x 1080 '\n",
    "data['H px']= data.Screen_resolution.apply(lambda s : re.findall(r'\\d+',s)[0])\n",
    "data['V px']=data.Screen_resolution.apply(lambda s : re.findall(r'\\d+',s)[1])\n",
    "data=data.drop('Screen_resolution',axis=1)"
   ]
  },
  {
   "cell_type": "code",
   "execution_count": 60,
   "metadata": {},
   "outputs": [],
   "source": [
    "temp=data[data.Processor_name.notna()]\n",
    "ind=temp[temp.Processor_name.str.contains('Core')].index\n",
    "data.loc[ind,'Processor']=temp['Processor_name']"
   ]
  },
  {
   "cell_type": "code",
   "execution_count": 61,
   "metadata": {},
   "outputs": [],
   "source": [
    "\n",
    "data.loc[1,['Processor_name']]= 'Snapdragon 450'\n",
    "data.loc[2,['Processor_name']]= 'Exynos 850'\n",
    "data.loc[744,['Processor_name']]= 'Exynos 850'\n",
    "data.loc[16,['Processor_name']]= 'Exynos 1280'\n",
    "data.loc[22,['Processor_name']]= 'Snapdragon 730'\n",
    "data.loc[27,['Processor_name']]= 'Snapdragon 750G'\n",
    "data.loc[203,['Processor_name']]= 'Snapdragon 8 Gen1 Plus'\n",
    "data.loc[234,['Processor_name']]= 'Helio P22'\n",
    "data.loc[288,['Processor_name']]= 'Dimensity 6100 Plus'\n",
    "data.loc[297,['Processor_name']]= 'Snapdragon 8 Gen1'\n",
    "data.loc[396,['Processor_name']]= 'Snapdragon 8 Gen2'\n",
    "data.loc[510,['Processor_name']]= 'JLQ JR510'\n",
    "data.loc[626,['Processor_name']]= 'Snapdragon 8 Gen2'\n",
    "data.loc[682,['Processor_name']]= 'Snapdragon 7 Gen 3 Plus'\n",
    "data.loc[720,['Processor_name']]= 'Helio G88'\n",
    "data.loc[747,['Processor_name']]= 'Exynos 2100'\n",
    "data.loc[750,['Processor_name']]= 'Exynos 2100'\n",
    "data.loc[754,['Processor_name']]= 'Exynos 1280'\n",
    "data.loc[756,['Processor_name']]= 'Snapdragon 782G'\n",
    "data.loc[786,['Processor_name']]= 'Exynos 1280'\n",
    "data.loc[897,['Processor_name']]= 'Dimensity 700'\n",
    "data.loc[984,['Processor_name']]= 'Snapdragon 720G'\n",
    "data.loc[1164,['Processor_name']]= 'Snapdragon 8 Gen 3'\n",
    "data.loc[1225,['Processor_name']]= 'Dimensity 9000'\n",
    "data.loc[1239,['Processor_name']]= 'Kirin 710A'\n",
    "data.loc[1241,['Processor_name']]= 'Kirin 710F'\n",
    "data.loc[1242,['Processor_name']]= 'Snapdragon 680'\n",
    "data.loc[1248,['Processor_name']]= 'Snapdragon 680G'\n",
    "data.loc[1276,['Processor_name']]= 'Kirin 9010'\n",
    "data.loc[1277,['Processor_name']]= 'Kirin 9010'\n",
    "data.loc[1282,['Processor_name']]= 'Kirin 9010'\n",
    "data.loc[1283,['Processor_name']]= 'Kirin 9000'\n",
    "data.loc[1291,['Processor_name']]= 'Kirin 9000'\n",
    "data.loc[1234,['Processor_name']]= 'Kirin 710'\n",
    "data.iloc[[655,689,692,1348,218,1246],21]=['other','unisoc SC9863','unisoc T606','Helio G25',' Helio G35','Kirin 710A']"
   ]
  },
  {
   "cell_type": "code",
   "execution_count": 62,
   "metadata": {},
   "outputs": [],
   "source": [
    "data.company=data.company.str.lower()\n",
    "data.Processor=data.Processor.str.lower()\n",
    "data.Processor_name=data.Processor_name.str.lower()\n",
    "data.Processor_name=data.Processor_name.str.strip()\n",
    "data.Processor=data.Processor.str.replace('processor','').str.strip()"
   ]
  },
  {
   "cell_type": "code",
   "execution_count": 63,
   "metadata": {},
   "outputs": [],
   "source": [
    "data.Processor_name=data.Processor_name.str.replace('google ','')\n",
    "data.Processor_name=data.Processor_name.str.replace('samsung ','')\n",
    "data.Processor_name=data.Processor_name.str.replace('qualcomm ','')\n",
    "data.Processor_name=data.Processor_name.str.replace('sanpdragon','snapdragon')\n",
    "data.Processor_name=data.Processor_name.str.strip()"
   ]
  },
  {
   "cell_type": "code",
   "execution_count": 67,
   "metadata": {},
   "outputs": [
    {
     "data": {
      "text/html": [
       "<div>\n",
       "<style scoped>\n",
       "    .dataframe tbody tr th:only-of-type {\n",
       "        vertical-align: middle;\n",
       "    }\n",
       "\n",
       "    .dataframe tbody tr th {\n",
       "        vertical-align: top;\n",
       "    }\n",
       "\n",
       "    .dataframe thead th {\n",
       "        text-align: right;\n",
       "    }\n",
       "</style>\n",
       "<table border=\"1\" class=\"dataframe\">\n",
       "  <thead>\n",
       "    <tr style=\"text-align: right;\">\n",
       "      <th></th>\n",
       "      <th>Name</th>\n",
       "      <th>Rating</th>\n",
       "      <th>Spec_score</th>\n",
       "      <th>Dual Sim</th>\n",
       "      <th>VoLTE</th>\n",
       "      <th>5G</th>\n",
       "      <th>Vo5G</th>\n",
       "      <th>Ram</th>\n",
       "      <th>Battery</th>\n",
       "      <th>Display</th>\n",
       "      <th>...</th>\n",
       "      <th>company</th>\n",
       "      <th>Inbuilt_memory</th>\n",
       "      <th>fast_charging</th>\n",
       "      <th>Processor</th>\n",
       "      <th>Processor_name</th>\n",
       "      <th>Water Drop Notch</th>\n",
       "      <th>with Punch Hole</th>\n",
       "      <th>H px</th>\n",
       "      <th>V px</th>\n",
       "      <th>Processor_</th>\n",
       "    </tr>\n",
       "  </thead>\n",
       "  <tbody>\n",
       "    <tr>\n",
       "      <th>344</th>\n",
       "      <td>Oppo K5 (8GB RAM + 128GB)</td>\n",
       "      <td>4.25</td>\n",
       "      <td>82</td>\n",
       "      <td>1</td>\n",
       "      <td>1</td>\n",
       "      <td>0</td>\n",
       "      <td>0</td>\n",
       "      <td>8.0</td>\n",
       "      <td>4000</td>\n",
       "      <td>6.40</td>\n",
       "      <td>...</td>\n",
       "      <td>oppo</td>\n",
       "      <td>128</td>\n",
       "      <td>30.0</td>\n",
       "      <td>octa core</td>\n",
       "      <td>snapdragon  730g</td>\n",
       "      <td>1</td>\n",
       "      <td>0</td>\n",
       "      <td>1080</td>\n",
       "      <td>2340</td>\n",
       "      <td>snapdragon</td>\n",
       "    </tr>\n",
       "    <tr>\n",
       "      <th>72</th>\n",
       "      <td>Samsung Galaxy Z Fold FE</td>\n",
       "      <td>4.35</td>\n",
       "      <td>78</td>\n",
       "      <td>1</td>\n",
       "      <td>1</td>\n",
       "      <td>1</td>\n",
       "      <td>0</td>\n",
       "      <td>8.0</td>\n",
       "      <td>4400</td>\n",
       "      <td>7.45</td>\n",
       "      <td>...</td>\n",
       "      <td>samsung</td>\n",
       "      <td>128</td>\n",
       "      <td>25.0</td>\n",
       "      <td>octa core</td>\n",
       "      <td>exynos 2200</td>\n",
       "      <td>0</td>\n",
       "      <td>0</td>\n",
       "      <td>1812</td>\n",
       "      <td>2176</td>\n",
       "      <td>exynos</td>\n",
       "    </tr>\n",
       "    <tr>\n",
       "      <th>957</th>\n",
       "      <td>Motorola Moto G64 5G</td>\n",
       "      <td>4.40</td>\n",
       "      <td>84</td>\n",
       "      <td>1</td>\n",
       "      <td>1</td>\n",
       "      <td>1</td>\n",
       "      <td>1</td>\n",
       "      <td>8.0</td>\n",
       "      <td>6000</td>\n",
       "      <td>6.50</td>\n",
       "      <td>...</td>\n",
       "      <td>motorola</td>\n",
       "      <td>128</td>\n",
       "      <td>33.0</td>\n",
       "      <td>octa core</td>\n",
       "      <td>dimensity 7025</td>\n",
       "      <td>0</td>\n",
       "      <td>0</td>\n",
       "      <td>1080</td>\n",
       "      <td>2400</td>\n",
       "      <td>dimensity</td>\n",
       "    </tr>\n",
       "    <tr>\n",
       "      <th>638</th>\n",
       "      <td>Google Pixel 7 Pro 5G</td>\n",
       "      <td>4.45</td>\n",
       "      <td>89</td>\n",
       "      <td>1</td>\n",
       "      <td>1</td>\n",
       "      <td>1</td>\n",
       "      <td>0</td>\n",
       "      <td>12.0</td>\n",
       "      <td>5000</td>\n",
       "      <td>6.70</td>\n",
       "      <td>...</td>\n",
       "      <td>google</td>\n",
       "      <td>128</td>\n",
       "      <td>30.0</td>\n",
       "      <td>octa core</td>\n",
       "      <td>tensor g2</td>\n",
       "      <td>0</td>\n",
       "      <td>0</td>\n",
       "      <td>1440</td>\n",
       "      <td>3120</td>\n",
       "      <td>tensor</td>\n",
       "    </tr>\n",
       "    <tr>\n",
       "      <th>947</th>\n",
       "      <td>Motorola Moto G34 5G</td>\n",
       "      <td>4.65</td>\n",
       "      <td>74</td>\n",
       "      <td>1</td>\n",
       "      <td>1</td>\n",
       "      <td>1</td>\n",
       "      <td>1</td>\n",
       "      <td>4.0</td>\n",
       "      <td>5000</td>\n",
       "      <td>6.50</td>\n",
       "      <td>...</td>\n",
       "      <td>motorola</td>\n",
       "      <td>128</td>\n",
       "      <td>18.0</td>\n",
       "      <td>octa core</td>\n",
       "      <td>snapdragon 695</td>\n",
       "      <td>0</td>\n",
       "      <td>0</td>\n",
       "      <td>720</td>\n",
       "      <td>1600</td>\n",
       "      <td>snapdragon</td>\n",
       "    </tr>\n",
       "    <tr>\n",
       "      <th>631</th>\n",
       "      <td>Google Pixel 7A</td>\n",
       "      <td>4.70</td>\n",
       "      <td>86</td>\n",
       "      <td>1</td>\n",
       "      <td>1</td>\n",
       "      <td>1</td>\n",
       "      <td>0</td>\n",
       "      <td>8.0</td>\n",
       "      <td>4385</td>\n",
       "      <td>6.10</td>\n",
       "      <td>...</td>\n",
       "      <td>google</td>\n",
       "      <td>128</td>\n",
       "      <td>18.0</td>\n",
       "      <td>octa core</td>\n",
       "      <td>tensor g2</td>\n",
       "      <td>0</td>\n",
       "      <td>0</td>\n",
       "      <td>1080</td>\n",
       "      <td>2400</td>\n",
       "      <td>tensor</td>\n",
       "    </tr>\n",
       "    <tr>\n",
       "      <th>59</th>\n",
       "      <td>Samsung Galaxy A75 5G</td>\n",
       "      <td>4.05</td>\n",
       "      <td>83</td>\n",
       "      <td>1</td>\n",
       "      <td>1</td>\n",
       "      <td>1</td>\n",
       "      <td>0</td>\n",
       "      <td>8.0</td>\n",
       "      <td>5000</td>\n",
       "      <td>6.70</td>\n",
       "      <td>...</td>\n",
       "      <td>samsung</td>\n",
       "      <td>128</td>\n",
       "      <td>67.0</td>\n",
       "      <td>octa core</td>\n",
       "      <td>snapdragon 778g+</td>\n",
       "      <td>0</td>\n",
       "      <td>0</td>\n",
       "      <td>1080</td>\n",
       "      <td>2412</td>\n",
       "      <td>snapdragon</td>\n",
       "    </tr>\n",
       "    <tr>\n",
       "      <th>680</th>\n",
       "      <td>Asus ROG Phone 7D</td>\n",
       "      <td>4.60</td>\n",
       "      <td>89</td>\n",
       "      <td>1</td>\n",
       "      <td>1</td>\n",
       "      <td>1</td>\n",
       "      <td>0</td>\n",
       "      <td>16.0</td>\n",
       "      <td>6000</td>\n",
       "      <td>6.78</td>\n",
       "      <td>...</td>\n",
       "      <td>asus</td>\n",
       "      <td>256</td>\n",
       "      <td>65.0</td>\n",
       "      <td>octa core</td>\n",
       "      <td>snapdragon 8 gen2</td>\n",
       "      <td>0</td>\n",
       "      <td>0</td>\n",
       "      <td>1080</td>\n",
       "      <td>2448</td>\n",
       "      <td>snapdragon</td>\n",
       "    </tr>\n",
       "    <tr>\n",
       "      <th>1000</th>\n",
       "      <td>Motorola Moto G Power 5G 2024</td>\n",
       "      <td>4.15</td>\n",
       "      <td>85</td>\n",
       "      <td>1</td>\n",
       "      <td>1</td>\n",
       "      <td>1</td>\n",
       "      <td>0</td>\n",
       "      <td>8.0</td>\n",
       "      <td>5000</td>\n",
       "      <td>6.70</td>\n",
       "      <td>...</td>\n",
       "      <td>motorola</td>\n",
       "      <td>128</td>\n",
       "      <td>30.0</td>\n",
       "      <td>octa core</td>\n",
       "      <td>dimensity 7020</td>\n",
       "      <td>0</td>\n",
       "      <td>0</td>\n",
       "      <td>1080</td>\n",
       "      <td>2400</td>\n",
       "      <td>dimensity</td>\n",
       "    </tr>\n",
       "    <tr>\n",
       "      <th>1307</th>\n",
       "      <td>Honor X40i</td>\n",
       "      <td>4.00</td>\n",
       "      <td>77</td>\n",
       "      <td>1</td>\n",
       "      <td>1</td>\n",
       "      <td>1</td>\n",
       "      <td>0</td>\n",
       "      <td>8.0</td>\n",
       "      <td>4000</td>\n",
       "      <td>6.70</td>\n",
       "      <td>...</td>\n",
       "      <td>honor</td>\n",
       "      <td>128</td>\n",
       "      <td>40.0</td>\n",
       "      <td>octa core</td>\n",
       "      <td>dimensity 700 5g</td>\n",
       "      <td>0</td>\n",
       "      <td>0</td>\n",
       "      <td>1080</td>\n",
       "      <td>2388</td>\n",
       "      <td>dimensity</td>\n",
       "    </tr>\n",
       "  </tbody>\n",
       "</table>\n",
       "<p>10 rows × 28 columns</p>\n",
       "</div>"
      ],
      "text/plain": [
       "                               Name  Rating  Spec_score  Dual Sim  VoLTE  5G  \\\n",
       "344       Oppo K5 (8GB RAM + 128GB)    4.25          82         1      1   0   \n",
       "72         Samsung Galaxy Z Fold FE    4.35          78         1      1   1   \n",
       "957            Motorola Moto G64 5G    4.40          84         1      1   1   \n",
       "638           Google Pixel 7 Pro 5G    4.45          89         1      1   1   \n",
       "947            Motorola Moto G34 5G    4.65          74         1      1   1   \n",
       "631                 Google Pixel 7A    4.70          86         1      1   1   \n",
       "59            Samsung Galaxy A75 5G    4.05          83         1      1   1   \n",
       "680               Asus ROG Phone 7D    4.60          89         1      1   1   \n",
       "1000  Motorola Moto G Power 5G 2024    4.15          85         1      1   1   \n",
       "1307                     Honor X40i    4.00          77         1      1   1   \n",
       "\n",
       "      Vo5G   Ram  Battery  Display  ...   company Inbuilt_memory  \\\n",
       "344      0   8.0     4000     6.40  ...      oppo           128    \n",
       "72       0   8.0     4400     7.45  ...   samsung           128    \n",
       "957      1   8.0     6000     6.50  ...  motorola           128    \n",
       "638      0  12.0     5000     6.70  ...    google           128    \n",
       "947      1   4.0     5000     6.50  ...  motorola           128    \n",
       "631      0   8.0     4385     6.10  ...    google           128    \n",
       "59       0   8.0     5000     6.70  ...   samsung           128    \n",
       "680      0  16.0     6000     6.78  ...      asus           256    \n",
       "1000     0   8.0     5000     6.70  ...  motorola           128    \n",
       "1307     0   8.0     4000     6.70  ...     honor           128    \n",
       "\n",
       "      fast_charging  Processor     Processor_name Water Drop Notch  \\\n",
       "344            30.0  octa core   snapdragon  730g                1   \n",
       "72             25.0  octa core        exynos 2200                0   \n",
       "957            33.0  octa core     dimensity 7025                0   \n",
       "638            30.0  octa core          tensor g2                0   \n",
       "947            18.0  octa core     snapdragon 695                0   \n",
       "631            18.0  octa core          tensor g2                0   \n",
       "59             67.0  octa core   snapdragon 778g+                0   \n",
       "680            65.0  octa core  snapdragon 8 gen2                0   \n",
       "1000           30.0  octa core     dimensity 7020                0   \n",
       "1307           40.0  octa core   dimensity 700 5g                0   \n",
       "\n",
       "      with Punch Hole  H px  V px  Processor_  \n",
       "344                 0  1080  2340  snapdragon  \n",
       "72                  0  1812  2176      exynos  \n",
       "957                 0  1080  2400   dimensity  \n",
       "638                 0  1440  3120      tensor  \n",
       "947                 0   720  1600  snapdragon  \n",
       "631                 0  1080  2400      tensor  \n",
       "59                  0  1080  2412  snapdragon  \n",
       "680                 0  1080  2448  snapdragon  \n",
       "1000                0  1080  2400   dimensity  \n",
       "1307                0  1080  2388   dimensity  \n",
       "\n",
       "[10 rows x 28 columns]"
      ]
     },
     "execution_count": 67,
     "metadata": {},
     "output_type": "execute_result"
    }
   ],
   "source": [
    "data.sample(10)"
   ]
  },
  {
   "cell_type": "code",
   "execution_count": 66,
   "metadata": {},
   "outputs": [],
   "source": [
    "data['Processor_']=data.Processor_name.apply(lambda x : str(x).split(' ')[0])"
   ]
  },
  {
   "cell_type": "code",
   "execution_count": 26,
   "metadata": {},
   "outputs": [],
   "source": [
    "data['Processor_series']=data.Processor_name.apply(lambda x : ' '.join(str(x).split(' ')[1:]) if len(str(x).split(' '))>1 else 'no ditail')\n",
    "data['Processor_series']=data['Processor_series'].str.replace(' gen','.')"
   ]
  },
  {
   "cell_type": "code",
   "execution_count": 27,
   "metadata": {},
   "outputs": [],
   "source": [
    "data.Processor_.replace({'jlq':'other','quad':'other','tiger':'unisoc'},inplace=True)"
   ]
  },
  {
   "cell_type": "code",
   "execution_count": 28,
   "metadata": {},
   "outputs": [],
   "source": [
    "def s(x):\n",
    "    if '.' in x :\n",
    "        match=re.search( r'\\d+\\.\\d+', str(x))\n",
    "        if match:\n",
    "            return match.group()\n",
    "    else:\n",
    "        match=re.search(r'\\d+', str(x))\n",
    "        if match:\n",
    "            return match.group()\n",
    "data.Processor_series=data.Processor_series.apply(s)"
   ]
  },
  {
   "cell_type": "code",
   "execution_count": 29,
   "metadata": {},
   "outputs": [],
   "source": [
    "data.insert(10,'Rear',data.Camera.apply(lambda x : str(x).split(';')[0]))\n",
    "data.insert(11,'Front',data.Camera.apply(lambda x : str(x).split(';')[1] if len(str(x).split(';'))>1 else '0'))\n",
    "data['No _of_Rear']=data.Rear.apply(lambda x: 4 if 'Quad' in x else 3 if 'Triple' in x else 2 if 'Dual' in x else 1)\n",
    "data['No _of_Front']=data.Front.apply(lambda x: 4 if 'Quad' in x else 3 if 'Triple' in x else 2 if 'Dual' in x else 1)\n",
    "data['Primary_rear_camera']=data.Rear.apply(lambda x : str(x).split(' ')[0])\n",
    "data['Primary_front_camera']=data.Front.str.strip().apply(lambda x : str(x).split(' ')[0])"
   ]
  },
  {
   "cell_type": "code",
   "execution_count": 30,
   "metadata": {},
   "outputs": [],
   "source": [
    "def s(x):\n",
    "    match=re.search(r'\\d+', str(x))\n",
    "    if match:\n",
    "        return match.group()\n",
    "data.External_Memory=data.External_Memory.apply(s)"
   ]
  },
  {
   "cell_type": "code",
   "execution_count": 31,
   "metadata": {},
   "outputs": [],
   "source": [
    "data['Number_of_core']=data.Processor.apply(lambda x: '8' if 'octa' in str(x) else '4' if 'quad' in str(x) else '9' if 'nine' in str(x) else '10')"
   ]
  },
  {
   "cell_type": "code",
   "execution_count": 32,
   "metadata": {},
   "outputs": [],
   "source": [
    "data=data.drop(['Rear','Front','Camera','os','Processor_name','Processor','Dual_display'],axis=1)"
   ]
  },
  {
   "cell_type": "code",
   "execution_count": 33,
   "metadata": {},
   "outputs": [],
   "source": [
    "data.Primary_front_camera=data.Primary_front_camera.astype('float')\n"
   ]
  },
  {
   "cell_type": "code",
   "execution_count": 34,
   "metadata": {},
   "outputs": [],
   "source": [
    "data.insert(1,'Model_series',np.nan)"
   ]
  },
  {
   "cell_type": "code",
   "execution_count": 35,
   "metadata": {},
   "outputs": [],
   "source": [
    "sam=data[data.company=='samsung'].Name.apply(lambda x: re.sub(r'\\d.*', '', str(x).split(' ')[2]) if len(str(x).split(' '))>2 else 'other' )\n",
    "ind=sam.index\n",
    "data.loc[ind,'Model_series']=sam.values"
   ]
  },
  {
   "cell_type": "code",
   "execution_count": 37,
   "metadata": {},
   "outputs": [],
   "source": [
    "other=data[~(data.company=='samsung')].Name.apply(lambda x: re.sub(r'\\d.*', '', str(x).split(' ')[1]) if len(re.sub(r'\\d.*', '', str(x).split(' ')[1]))>=1 else 'other' )\n",
    "ind=other.index\n",
    "data.loc[ind,'Model_series']=other.values"
   ]
  },
  {
   "cell_type": "code",
   "execution_count": 38,
   "metadata": {},
   "outputs": [],
   "source": [
    "redmi=data[data.company=='xiaomi'].Name.apply(lambda x: re.sub(r'\\d.*', '', str(x).split(' ')[2]) if len(re.sub(r'\\d.*', '', str(x).split(' ')[2]))>2 else 'other')\n",
    "ind=redmi.index\n",
    "data.loc[ind,'Model_series']=redmi.values"
   ]
  },
  {
   "cell_type": "code",
   "execution_count": 39,
   "metadata": {},
   "outputs": [],
   "source": [
    "data.Model_series=data.Model_series.str.capitalize()"
   ]
  },
  {
   "cell_type": "code",
   "execution_count": 40,
   "metadata": {},
   "outputs": [],
   "source": [
    "data.to_csv('smart_phone.csv')"
   ]
  },
  {
   "cell_type": "code",
   "execution_count": null,
   "metadata": {},
   "outputs": [],
   "source": []
  }
 ],
 "metadata": {
  "colab": {
   "provenance": []
  },
  "kernelspec": {
   "display_name": "Python 3 (ipykernel)",
   "language": "python",
   "name": "python3"
  },
  "language_info": {
   "codemirror_mode": {
    "name": "ipython",
    "version": 3
   },
   "file_extension": ".py",
   "mimetype": "text/x-python",
   "name": "python",
   "nbconvert_exporter": "python",
   "pygments_lexer": "ipython3",
   "version": "3.12.4"
  }
 },
 "nbformat": 4,
 "nbformat_minor": 4
}
