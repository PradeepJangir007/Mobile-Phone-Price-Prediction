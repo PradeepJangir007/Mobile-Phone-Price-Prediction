{
 "cells": [
  {
   "cell_type": "code",
   "execution_count": 1,
   "metadata": {
    "id": "k-jKqojcjp8v"
   },
   "outputs": [],
   "source": [
    "import numpy as np\n",
    "import pandas as pd\n",
    "import matplotlib.pyplot as plt\n",
    "import seaborn as sns\n",
    "import scipy.stats as stats\n",
    "import re\n",
    "import warnings\n",
    "warnings.filterwarnings('ignore')"
   ]
  },
  {
   "cell_type": "code",
   "execution_count": 2,
   "metadata": {},
   "outputs": [],
   "source": [
    "from scipy import stats"
   ]
  },
  {
   "cell_type": "code",
   "execution_count": 3,
   "metadata": {},
   "outputs": [],
   "source": [
    "import re"
   ]
  },
  {
   "cell_type": "code",
   "execution_count": 4,
   "metadata": {
    "id": "xDVZIaO6jzFs"
   },
   "outputs": [],
   "source": [
    "data= pd.read_csv('mobile phone price prediction.csv')"
   ]
  },
  {
   "cell_type": "code",
   "execution_count": 5,
   "metadata": {
    "colab": {
     "base_uri": "https://localhost:8080/",
     "height": 528
    },
    "id": "LTE3-O8ukL9v",
    "outputId": "bea7ff69-ed65-4d9b-8f25-347be10bb678"
   },
   "outputs": [
    {
     "data": {
      "text/html": [
       "<div>\n",
       "<style scoped>\n",
       "    .dataframe tbody tr th:only-of-type {\n",
       "        vertical-align: middle;\n",
       "    }\n",
       "\n",
       "    .dataframe tbody tr th {\n",
       "        vertical-align: top;\n",
       "    }\n",
       "\n",
       "    .dataframe thead th {\n",
       "        text-align: right;\n",
       "    }\n",
       "</style>\n",
       "<table border=\"1\" class=\"dataframe\">\n",
       "  <thead>\n",
       "    <tr style=\"text-align: right;\">\n",
       "      <th></th>\n",
       "      <th>Unnamed: 0</th>\n",
       "      <th>Name</th>\n",
       "      <th>Rating</th>\n",
       "      <th>Spec_score</th>\n",
       "      <th>No_of_sim</th>\n",
       "      <th>Ram</th>\n",
       "      <th>Battery</th>\n",
       "      <th>Display</th>\n",
       "      <th>Camera</th>\n",
       "      <th>External_Memory</th>\n",
       "      <th>Android_version</th>\n",
       "      <th>Price</th>\n",
       "      <th>company</th>\n",
       "      <th>Inbuilt_memory</th>\n",
       "      <th>fast_charging</th>\n",
       "      <th>Screen_resolution</th>\n",
       "      <th>Processor</th>\n",
       "      <th>Processor_name</th>\n",
       "    </tr>\n",
       "  </thead>\n",
       "  <tbody>\n",
       "    <tr>\n",
       "      <th>0</th>\n",
       "      <td>0</td>\n",
       "      <td>Samsung Galaxy F14 5G</td>\n",
       "      <td>4.65</td>\n",
       "      <td>68</td>\n",
       "      <td>Dual Sim, 3G, 4G, 5G, VoLTE,</td>\n",
       "      <td>4 GB RAM</td>\n",
       "      <td>6000 mAh Battery</td>\n",
       "      <td>6.6 inches</td>\n",
       "      <td>50 MP + 2 MP Dual Rear &amp;amp; 13 MP Front Camera</td>\n",
       "      <td>Memory Card Supported, upto 1 TB</td>\n",
       "      <td>13</td>\n",
       "      <td>9,999</td>\n",
       "      <td>Samsung</td>\n",
       "      <td>128 GB inbuilt</td>\n",
       "      <td>25W Fast Charging</td>\n",
       "      <td>2408 x 1080 px Display with Water Drop Notch</td>\n",
       "      <td>Octa Core Processor</td>\n",
       "      <td>Exynos 1330</td>\n",
       "    </tr>\n",
       "  </tbody>\n",
       "</table>\n",
       "</div>"
      ],
      "text/plain": [
       "   Unnamed: 0                   Name  Rating  Spec_score  \\\n",
       "0           0  Samsung Galaxy F14 5G    4.65          68   \n",
       "\n",
       "                       No_of_sim       Ram            Battery     Display  \\\n",
       "0  Dual Sim, 3G, 4G, 5G, VoLTE,   4 GB RAM  6000 mAh Battery   6.6 inches   \n",
       "\n",
       "                                            Camera  \\\n",
       "0  50 MP + 2 MP Dual Rear &amp; 13 MP Front Camera   \n",
       "\n",
       "                    External_Memory Android_version  Price  company  \\\n",
       "0  Memory Card Supported, upto 1 TB              13  9,999  Samsung   \n",
       "\n",
       "    Inbuilt_memory       fast_charging  \\\n",
       "0   128 GB inbuilt   25W Fast Charging   \n",
       "\n",
       "                               Screen_resolution             Processor  \\\n",
       "0   2408 x 1080 px Display with Water Drop Notch   Octa Core Processor   \n",
       "\n",
       "  Processor_name  \n",
       "0    Exynos 1330  "
      ]
     },
     "execution_count": 5,
     "metadata": {},
     "output_type": "execute_result"
    }
   ],
   "source": [
    "data.head(1)"
   ]
  },
  {
   "cell_type": "code",
   "execution_count": 6,
   "metadata": {
    "colab": {
     "base_uri": "https://localhost:8080/"
    },
    "id": "jx_oXjUra5eT",
    "outputId": "ef0e8df3-053d-4eb6-b780-c4a997e40b56"
   },
   "outputs": [
    {
     "data": {
      "text/plain": [
       "0"
      ]
     },
     "execution_count": 6,
     "metadata": {},
     "output_type": "execute_result"
    }
   ],
   "source": [
    "data.duplicated().sum()"
   ]
  },
  {
   "cell_type": "code",
   "execution_count": 7,
   "metadata": {
    "id": "Hu0RdzFtIx1o"
   },
   "outputs": [],
   "source": [
    "data=data.drop(columns = ['Unnamed: 0'],axis='columns')"
   ]
  },
  {
   "cell_type": "code",
   "execution_count": 9,
   "metadata": {
    "colab": {
     "base_uri": "https://localhost:8080/"
    },
    "id": "JjeS_aLnkOc0",
    "outputId": "151e3dcb-53b7-4ea7-bc64-48ec5fbd2972"
   },
   "outputs": [
    {
     "name": "stdout",
     "output_type": "stream",
     "text": [
      "<class 'pandas.core.frame.DataFrame'>\n",
      "RangeIndex: 1370 entries, 0 to 1369\n",
      "Data columns (total 17 columns):\n",
      " #   Column             Non-Null Count  Dtype  \n",
      "---  ------             --------------  -----  \n",
      " 0   Name               1370 non-null   object \n",
      " 1   Rating             1370 non-null   float64\n",
      " 2   Spec_score         1370 non-null   int64  \n",
      " 3   No_of_sim          1370 non-null   object \n",
      " 4   Ram                1370 non-null   object \n",
      " 5   Battery            1370 non-null   object \n",
      " 6   Display            1370 non-null   object \n",
      " 7   Camera             1370 non-null   object \n",
      " 8   External_Memory    1370 non-null   object \n",
      " 9   Android_version    927 non-null    object \n",
      " 10  Price              1370 non-null   object \n",
      " 11  company            1370 non-null   object \n",
      " 12  Inbuilt_memory     1351 non-null   object \n",
      " 13  fast_charging      1281 non-null   object \n",
      " 14  Screen_resolution  1368 non-null   object \n",
      " 15  Processor          1342 non-null   object \n",
      " 16  Processor_name     1370 non-null   object \n",
      "dtypes: float64(1), int64(1), object(15)\n",
      "memory usage: 182.1+ KB\n"
     ]
    }
   ],
   "source": [
    "data.info()"
   ]
  },
  {
   "cell_type": "code",
   "execution_count": 10,
   "metadata": {},
   "outputs": [],
   "source": [
    "temp=data[data.Camera.str.contains('Display')]\n",
    "data.insert(7,'Dual_display',temp['Camera'])\n",
    "data.iloc[temp.index,[8]]=temp[['External_Memory']]"
   ]
  },
  {
   "cell_type": "code",
   "execution_count": 11,
   "metadata": {
    "id": "5FUxUBYyC2fP"
   },
   "outputs": [],
   "source": [
    "data.loc[1246,['Battery','Display','Camera','External_Memory',\n",
    "               'fast_charging','Screen_resolution','Ram','Inbuilt_memory','Processor','Processor_name']]=['6000 mAh Battery','6.75 inches',\n",
    "                                                      '48 MP + 5 MP + 2 MP Triple Rear &amp; 8 MP','Memory Card (Hybrid)',\n",
    "                                                      '22.5W Fast Charging',' 720 x 1600 px Display','4 GB RAM','128 GB inbuilt',np.nan,np.nan]\n",
    "data.loc[264,['Name','Rating','Spec_score','No_of_sim','Ram','Battery','Display','Camera','External_Memory','Price','company','Inbuilt_memory',\n",
    "              'fast_charging','Screen_resolution','Processor','Processor_name',]]=['Realme 6i(6GB RAM + 64GB)',3.85,76,'Dual Sim, 3G, 4G, VoLTE',\n",
    "                                                                                   '6GB RAM','4300 mAh Battery','6.5 inches',\n",
    "                                                                                   '48 MP Quad Rear &amp; 16 MP Front Camera',\n",
    "                                                                                   np.nan,'14,999','Realme','64 GB inbuilt','30W Fast Charging',\n",
    "                                                                                   ' 1080 x 2400 px, 90 Hz Display','Octa Core','Helio G90T']\n",
    "data.loc[264,'Dual_display']=np.nan"
   ]
  },
  {
   "cell_type": "code",
   "execution_count": 12,
   "metadata": {},
   "outputs": [],
   "source": [
    "# External coloum\n",
    "temp=data[data.External_Memory.notnull()]\n",
    "ind=temp[temp.External_Memory.str.contains('MP')].index\n",
    "data.iloc[ind,9]=np.nan\n",
    "data.insert(10,'os','0')\n",
    "temp=data[data.External_Memory.notnull()]\n",
    "ind=temp[temp.External_Memory.str.contains('Android')][['External_Memory']]\n",
    "data.iloc[ind.index,[10]]=ind\n",
    "data.iloc[ind.index,9]=np.nan\n",
    "\n",
    "temp=data[data.External_Memory.notnull()]\n",
    "ind=temp[temp.External_Memory.str.contains('Harmony')][['External_Memory']]\n",
    "data.iloc[ind.index,[10]]=ind\n",
    "data.iloc[ind.index,9]=np.nan\n",
    "\n",
    "temp=data[data.External_Memory.notnull()]\n",
    "ind=temp[temp.External_Memory.str.contains('EMUI')][['External_Memory']]\n",
    "data.iloc[ind.index,[10]]=ind\n",
    "data.iloc[ind.index,9]=np.nan\n",
    "\n",
    "data.External_Memory=data.External_Memory.str.replace('Memory Card Supported, upto','')\n",
    "data.External_Memory=data.External_Memory.str.replace('Memory Card (Hybrid), upto','')\n",
    "data.External_Memory=data.External_Memory.str.replace('Memory Card Not Supported','0 GB')\n",
    "data.External_Memory=data.External_Memory.str.strip()\n",
    "\n",
    "data.External_Memory.replace({'1 TB':'1024 GB','2 TB':'2048 GB','Memory Card (Hybrid)':'1024 GB',\n",
    "                              'Memory Card Supported':'1024 GB','No FM Radio':'0 GB'},inplace=True)"
   ]
  },
  {
   "cell_type": "code",
   "execution_count": 14,
   "metadata": {},
   "outputs": [],
   "source": [
    "data.Inbuilt_memory=data.Inbuilt_memory.replace(' 1 TB inbuilt','1024 GB inbuilt')\n",
    "data.Inbuilt_memory=data.Inbuilt_memory.replace('2 TB inbuilt','2048 GB inbuilt')\n",
    "data.Inbuilt_memory=data.Inbuilt_memory.str.replace('GB inbuilt','')"
   ]
  },
  {
   "cell_type": "code",
   "execution_count": 15,
   "metadata": {},
   "outputs": [],
   "source": [
    "data.fast_charging=data.fast_charging.str.replace('W Fast Charging','')\n",
    "data.fast_charging=data.fast_charging.str.replace('Fast Charging','15')\n",
    "#for j in range(10000,150000,10000):\n",
    "#  for i in D:\n",
    "#    data.loc[data[(data.company==i) & (data['fast_charging'].isna()) & (data.Price<j)].index,['fast_charging']]=D[i]\n",
    "#data['fast_charging'].fillna(15,inplace=True)"
   ]
  },
  {
   "cell_type": "code",
   "execution_count": 16,
   "metadata": {},
   "outputs": [],
   "source": [
    "data.Screen_resolution=data.Screen_resolution.str.replace('px Display','')"
   ]
  },
  {
   "cell_type": "code",
   "execution_count": 17,
   "metadata": {},
   "outputs": [],
   "source": [
    "#  change the data\n",
    "data.Price=data.Price.str.replace(',','').astype(int)\n",
    "data.Battery=data.Battery.str.replace('mAh Battery','').astype(int)\n",
    "data.Rating=data.Rating.astype(float)\n",
    "data.Spec_score=data.Spec_score.astype(int)\n",
    "data.Display=data.Display.str.replace('inches','').astype(float)"
   ]
  },
  {
   "cell_type": "code",
   "execution_count": 19,
   "metadata": {},
   "outputs": [],
   "source": [
    "# Ram coloum\n",
    "temp=data[data.Ram.str.contains('inbuilt')]\n",
    "data.iloc[temp.index,9]=temp.Ram\n",
    "data.iloc[temp.index,4]=np.nan\n",
    "\n",
    "data.loc[data[(data['Price'] <= 20000) & (data['Ram'].isnull())].index,'Ram']='6.0'\n",
    "data.loc[data[(data['Price'] <= 50000) & (data['Ram'].isnull())].index,'Ram']='8.0'\n",
    "data.loc[data[(data['Price'] <= 1500000) & (data['Ram'].isnull())].index,'Ram']='12.0'\n",
    "data.Ram=data.Ram.str.replace('GB RAM','').astype(float)"
   ]
  },
  {
   "cell_type": "code",
   "execution_count": 21,
   "metadata": {},
   "outputs": [],
   "source": [
    "#  change the data type\n",
    "data.Ram=data.Ram.astype(float)\n",
    "data.Battery=data.Battery.astype(int)\n",
    "data.fast_charging=data.fast_charging.astype(float)"
   ]
  },
  {
   "cell_type": "code",
   "execution_count": 23,
   "metadata": {},
   "outputs": [],
   "source": [
    "## No of sim\n",
    "data.insert(4,'Dual Sim',data.No_of_sim.str.contains('Dual Sim').astype('int'))\n",
    "data.insert(5,'VoLTE',data.No_of_sim.str.contains('VoLTE').astype('int'))\n",
    "data.insert(6,'5G',data.No_of_sim.str.contains('5G').astype('int'))\n",
    "data.insert(7,'Vo5G',data.No_of_sim.str.contains('Vo5G').astype('int'))\n",
    "data.drop('No_of_sim',axis=1,inplace=True)"
   ]
  },
  {
   "cell_type": "code",
   "execution_count": 25,
   "metadata": {},
   "outputs": [],
   "source": [
    "# foldable and dual\n",
    "data.Dual_display.fillna('No',inplace=True)\n",
    "data.insert(12,'Foldable Display',data.Dual_display.str.contains('Foldable').astype('int'))\n",
    "data.insert(13,'Dual Display',data.Dual_display.str.contains('Dual').astype('int'))"
   ]
  },
  {
   "cell_type": "code",
   "execution_count": 27,
   "metadata": {},
   "outputs": [],
   "source": [
    "# Androids version\n",
    "data['OS']=data.os.apply(lambda x : str(x).split(' ')[0])\n",
    "data['OS_v']=data.os.apply(lambda x : str(x).split(' ')[1] if len(str(x).split(' '))>1 else 0 ).str.replace('v','').fillna(0)\n",
    "data['v']=data.Android_version.fillna('0').apply(lambda x : str(x).split(' ')[0] )\n",
    "data.v=data.v.str.replace('7.1.1','7.1',)\n",
    "data.Android_version=data.v.astype('float')+data.OS_v.astype('float')\n",
    "data.drop(['OS','OS_v','v'],axis=1,inplace=True)"
   ]
  },
  {
   "cell_type": "code",
   "execution_count": 28,
   "metadata": {},
   "outputs": [],
   "source": [
    "data['Water Drop Notch']=data.Screen_resolution.str.contains('Water Drop').astype('int')\n",
    "data['with Punch Hole']=data.Screen_resolution.str.contains('Punch Hole').astype('int')\n",
    "data.loc[933,'Screen_resolution']='1920 x 1080 '\n",
    "data['H px']= data.Screen_resolution.apply(lambda s : re.findall(r'\\d+',s)[0])\n",
    "data['V px']=data.Screen_resolution.apply(lambda s : re.findall(r'\\d+',s)[1])\n",
    "data=data.drop('Screen_resolution',axis=1)"
   ]
  },
  {
   "cell_type": "code",
   "execution_count": 30,
   "metadata": {},
   "outputs": [],
   "source": [
    "temp=data[data.Processor_name.notna()]\n",
    "ind=temp[temp.Processor_name.str.contains('Core')].index\n",
    "data.loc[ind,'Processor']=temp['Processor_name']"
   ]
  },
  {
   "cell_type": "code",
   "execution_count": 31,
   "metadata": {},
   "outputs": [],
   "source": [
    "\n",
    "data.loc[1,['Processor_name']]= 'Snapdragon 450'\n",
    "data.loc[2,['Processor_name']]= 'Exynos 850'\n",
    "data.loc[744,['Processor_name']]= 'Exynos 850'\n",
    "data.loc[16,['Processor_name']]= 'Exynos 1280'\n",
    "data.loc[22,['Processor_name']]= 'Snapdragon 730'\n",
    "data.loc[27,['Processor_name']]= 'Snapdragon 750G'\n",
    "data.loc[203,['Processor_name']]= 'Snapdragon 8 Gen1 Plus'\n",
    "data.loc[234,['Processor_name']]= 'Helio P22'\n",
    "data.loc[288,['Processor_name']]= 'Dimensity 6100 Plus'\n",
    "data.loc[297,['Processor_name']]= 'Snapdragon 8 Gen1'\n",
    "data.loc[396,['Processor_name']]= 'Snapdragon 8 Gen2'\n",
    "data.loc[510,['Processor_name']]= 'JLQ JR510'\n",
    "data.loc[626,['Processor_name']]= 'Snapdragon 8 Gen2'\n",
    "data.loc[682,['Processor_name']]= 'Snapdragon 7 Gen 3 Plus'\n",
    "data.loc[720,['Processor_name']]= 'Helio G88'\n",
    "data.loc[747,['Processor_name']]= 'Exynos 2100'\n",
    "data.loc[750,['Processor_name']]= 'Exynos 2100'\n",
    "data.loc[754,['Processor_name']]= 'Exynos 1280'\n",
    "data.loc[756,['Processor_name']]= 'Snapdragon 782G'\n",
    "data.loc[786,['Processor_name']]= 'Exynos 1280'\n",
    "data.loc[897,['Processor_name']]= 'Dimensity 700'\n",
    "data.loc[984,['Processor_name']]= 'Snapdragon 720G'\n",
    "data.loc[1164,['Processor_name']]= 'Snapdragon 8 Gen 3'\n",
    "data.loc[1225,['Processor_name']]= 'Dimensity 9000'\n",
    "data.loc[1239,['Processor_name']]= 'Kirin 710A'\n",
    "data.loc[1241,['Processor_name']]= 'Kirin 710F'\n",
    "data.loc[1242,['Processor_name']]= 'Snapdragon 680'\n",
    "data.loc[1248,['Processor_name']]= 'Snapdragon 680G'\n",
    "data.loc[1276,['Processor_name']]= 'Kirin 9010'\n",
    "data.loc[1277,['Processor_name']]= 'Kirin 9010'\n",
    "data.loc[1282,['Processor_name']]= 'Kirin 9010'\n",
    "data.loc[1283,['Processor_name']]= 'Kirin 9000'\n",
    "data.loc[1291,['Processor_name']]= 'Kirin 9000'\n",
    "data.loc[1234,['Processor_name']]= 'Kirin 710'\n",
    "data.iloc[[655,689,692,1348,218,1246],21]=['other','unisoc SC9863','unisoc T606','Helio G25',' Helio G35','Kirin 710A']"
   ]
  },
  {
   "cell_type": "code",
   "execution_count": 32,
   "metadata": {},
   "outputs": [],
   "source": [
    "data.company=data.company.str.lower()\n",
    "data.Processor=data.Processor.str.lower()\n",
    "data.Processor_name=data.Processor_name.str.lower()\n",
    "data.Processor_name=data.Processor_name.str.strip()\n",
    "data.Processor=data.Processor.str.replace('processor','').str.strip()"
   ]
  },
  {
   "cell_type": "code",
   "execution_count": 33,
   "metadata": {},
   "outputs": [],
   "source": [
    "data.Processor_name=data.Processor_name.str.replace('google ','')\n",
    "data.Processor_name=data.Processor_name.str.replace('samsung ','')\n",
    "data.Processor_name=data.Processor_name.str.replace('qualcomm ','')\n",
    "data.Processor_name=data.Processor_name.str.replace('sanpdragon','snapdragon')\n",
    "data.Processor_name=data.Processor_name.str.strip()"
   ]
  },
  {
   "cell_type": "code",
   "execution_count": 34,
   "metadata": {},
   "outputs": [],
   "source": [
    "data['Processor_']=data.Processor_name.apply(lambda x : str(x).split(' ')[0])"
   ]
  },
  {
   "cell_type": "code",
   "execution_count": 35,
   "metadata": {},
   "outputs": [],
   "source": [
    "data['Processor_series']=data.Processor_name.apply(lambda x : str(x).split(' ')[1] if len(str(x).split(' '))>1 else 'no ditail')"
   ]
  },
  {
   "cell_type": "code",
   "execution_count": 36,
   "metadata": {},
   "outputs": [],
   "source": [
    "data.Processor_.replace({'jlq':'other','quad':'other','tiger':'unisoc'},inplace=True)"
   ]
  },
  {
   "cell_type": "code",
   "execution_count": 37,
   "metadata": {},
   "outputs": [],
   "source": [
    "def s(x):\n",
    "    match=re.search(r'\\d+', str(x))\n",
    "    if match:\n",
    "        return match.group()\n",
    "data.Processor_series=data.Processor_series.apply(s)"
   ]
  },
  {
   "cell_type": "code",
   "execution_count": 38,
   "metadata": {},
   "outputs": [],
   "source": [
    "data.insert(10,'Rear',data.Camera.apply(lambda x : str(x).split(';')[0]))\n",
    "data.insert(11,'Front',data.Camera.apply(lambda x : str(x).split(';')[1] if len(str(x).split(';'))>1 else '0'))\n",
    "data['No _of_Rear']=data.Rear.apply(lambda x: 4 if 'Quad' in x else 3 if 'Triple' in x else 2 if 'Dual' in x else 1)\n",
    "data['No _of_Front']=data.Front.apply(lambda x: 4 if 'Quad' in x else 3 if 'Triple' in x else 2 if 'Dual' in x else 1)\n",
    "data['Primary_rear_camera']=data.Rear.apply(lambda x : str(x).split(' ')[0])\n",
    "data['Primary_front_camera']=data.Front.str.strip().apply(lambda x : str(x).split(' ')[0])"
   ]
  },
  {
   "cell_type": "code",
   "execution_count": 39,
   "metadata": {},
   "outputs": [],
   "source": [
    "data.External_Memory=data.External_Memory.apply(s)"
   ]
  },
  {
   "cell_type": "code",
   "execution_count": 40,
   "metadata": {},
   "outputs": [],
   "source": [
    "data['Number_of_core']=data.Processor.apply(lambda x: '8' if 'octa' in str(x) else '4' if 'quad' in str(x) else '9' if 'nine' in str(x) else '10')"
   ]
  },
  {
   "cell_type": "code",
   "execution_count": 41,
   "metadata": {},
   "outputs": [],
   "source": [
    "data=data.drop(['Rear','Front','Camera','os','Processor_name','Processor','Dual_display'],axis=1)"
   ]
  },
  {
   "cell_type": "code",
   "execution_count": 42,
   "metadata": {},
   "outputs": [],
   "source": [
    "data.Primary_front_camera=data.Primary_front_camera.astype('float')\n"
   ]
  },
  {
   "cell_type": "code",
   "execution_count": 44,
   "metadata": {},
   "outputs": [],
   "source": [
    "data.to_csv('smart_phone.csv')"
   ]
  }
 ],
 "metadata": {
  "colab": {
   "provenance": []
  },
  "kernelspec": {
   "display_name": "Python 3 (ipykernel)",
   "language": "python",
   "name": "python3"
  },
  "language_info": {
   "codemirror_mode": {
    "name": "ipython",
    "version": 3
   },
   "file_extension": ".py",
   "mimetype": "text/x-python",
   "name": "python",
   "nbconvert_exporter": "python",
   "pygments_lexer": "ipython3",
   "version": "3.12.4"
  }
 },
 "nbformat": 4,
 "nbformat_minor": 4
}
